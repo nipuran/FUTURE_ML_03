{
 "cells": [
  {
   "cell_type": "code",
   "execution_count": 1,
   "id": "ac3a633a-6f95-45b7-aa8b-553e79d04633",
   "metadata": {},
   "outputs": [],
   "source": [
    "import numpy as np\n",
    "import pandas as pd\n",
    "import matplotlib.pyplot as plt"
   ]
  },
  {
   "cell_type": "code",
   "execution_count": 2,
   "id": "d7d024fd-81c4-4958-b9f4-a72457e384fe",
   "metadata": {},
   "outputs": [
    {
     "data": {
      "text/html": [
       "<div>\n",
       "<style scoped>\n",
       "    .dataframe tbody tr th:only-of-type {\n",
       "        vertical-align: middle;\n",
       "    }\n",
       "\n",
       "    .dataframe tbody tr th {\n",
       "        vertical-align: top;\n",
       "    }\n",
       "\n",
       "    .dataframe thead th {\n",
       "        text-align: right;\n",
       "    }\n",
       "</style>\n",
       "<table border=\"1\" class=\"dataframe\">\n",
       "  <thead>\n",
       "    <tr style=\"text-align: right;\">\n",
       "      <th></th>\n",
       "      <th>Ticket ID</th>\n",
       "      <th>Customer Name</th>\n",
       "      <th>Customer Email</th>\n",
       "      <th>Customer Age</th>\n",
       "      <th>Customer Gender</th>\n",
       "      <th>Product Purchased</th>\n",
       "      <th>Date of Purchase</th>\n",
       "      <th>Ticket Type</th>\n",
       "      <th>Ticket Subject</th>\n",
       "      <th>Ticket Description</th>\n",
       "      <th>Ticket Status</th>\n",
       "      <th>Resolution</th>\n",
       "      <th>Ticket Priority</th>\n",
       "      <th>Ticket Channel</th>\n",
       "      <th>First Response Time</th>\n",
       "      <th>Time to Resolution</th>\n",
       "      <th>Customer Satisfaction Rating</th>\n",
       "    </tr>\n",
       "  </thead>\n",
       "  <tbody>\n",
       "    <tr>\n",
       "      <th>0</th>\n",
       "      <td>1</td>\n",
       "      <td>Marisa Obrien</td>\n",
       "      <td>carrollallison@example.com</td>\n",
       "      <td>32</td>\n",
       "      <td>Other</td>\n",
       "      <td>GoPro Hero</td>\n",
       "      <td>2021-03-22</td>\n",
       "      <td>Technical issue</td>\n",
       "      <td>Product setup</td>\n",
       "      <td>I'm having an issue with the {product_purchase...</td>\n",
       "      <td>Pending Customer Response</td>\n",
       "      <td>NaN</td>\n",
       "      <td>Critical</td>\n",
       "      <td>Social media</td>\n",
       "      <td>2023-06-01 12:15:36</td>\n",
       "      <td>NaN</td>\n",
       "      <td>NaN</td>\n",
       "    </tr>\n",
       "    <tr>\n",
       "      <th>1</th>\n",
       "      <td>2</td>\n",
       "      <td>Jessica Rios</td>\n",
       "      <td>clarkeashley@example.com</td>\n",
       "      <td>42</td>\n",
       "      <td>Female</td>\n",
       "      <td>LG Smart TV</td>\n",
       "      <td>2021-05-22</td>\n",
       "      <td>Technical issue</td>\n",
       "      <td>Peripheral compatibility</td>\n",
       "      <td>I'm having an issue with the {product_purchase...</td>\n",
       "      <td>Pending Customer Response</td>\n",
       "      <td>NaN</td>\n",
       "      <td>Critical</td>\n",
       "      <td>Chat</td>\n",
       "      <td>2023-06-01 16:45:38</td>\n",
       "      <td>NaN</td>\n",
       "      <td>NaN</td>\n",
       "    </tr>\n",
       "    <tr>\n",
       "      <th>2</th>\n",
       "      <td>3</td>\n",
       "      <td>Christopher Robbins</td>\n",
       "      <td>gonzalestracy@example.com</td>\n",
       "      <td>48</td>\n",
       "      <td>Other</td>\n",
       "      <td>Dell XPS</td>\n",
       "      <td>2020-07-14</td>\n",
       "      <td>Technical issue</td>\n",
       "      <td>Network problem</td>\n",
       "      <td>I'm facing a problem with my {product_purchase...</td>\n",
       "      <td>Closed</td>\n",
       "      <td>Case maybe show recently my computer follow.</td>\n",
       "      <td>Low</td>\n",
       "      <td>Social media</td>\n",
       "      <td>2023-06-01 11:14:38</td>\n",
       "      <td>2023-06-01 18:05:38</td>\n",
       "      <td>3.0</td>\n",
       "    </tr>\n",
       "  </tbody>\n",
       "</table>\n",
       "</div>"
      ],
      "text/plain": [
       "   Ticket ID        Customer Name              Customer Email  Customer Age  \\\n",
       "0          1        Marisa Obrien  carrollallison@example.com            32   \n",
       "1          2         Jessica Rios    clarkeashley@example.com            42   \n",
       "2          3  Christopher Robbins   gonzalestracy@example.com            48   \n",
       "\n",
       "  Customer Gender Product Purchased Date of Purchase      Ticket Type  \\\n",
       "0           Other        GoPro Hero       2021-03-22  Technical issue   \n",
       "1          Female       LG Smart TV       2021-05-22  Technical issue   \n",
       "2           Other          Dell XPS       2020-07-14  Technical issue   \n",
       "\n",
       "             Ticket Subject  \\\n",
       "0             Product setup   \n",
       "1  Peripheral compatibility   \n",
       "2           Network problem   \n",
       "\n",
       "                                  Ticket Description  \\\n",
       "0  I'm having an issue with the {product_purchase...   \n",
       "1  I'm having an issue with the {product_purchase...   \n",
       "2  I'm facing a problem with my {product_purchase...   \n",
       "\n",
       "               Ticket Status                                    Resolution  \\\n",
       "0  Pending Customer Response                                           NaN   \n",
       "1  Pending Customer Response                                           NaN   \n",
       "2                     Closed  Case maybe show recently my computer follow.   \n",
       "\n",
       "  Ticket Priority Ticket Channel  First Response Time   Time to Resolution  \\\n",
       "0        Critical   Social media  2023-06-01 12:15:36                  NaN   \n",
       "1        Critical           Chat  2023-06-01 16:45:38                  NaN   \n",
       "2             Low   Social media  2023-06-01 11:14:38  2023-06-01 18:05:38   \n",
       "\n",
       "   Customer Satisfaction Rating  \n",
       "0                           NaN  \n",
       "1                           NaN  \n",
       "2                           3.0  "
      ]
     },
     "execution_count": 2,
     "metadata": {},
     "output_type": "execute_result"
    }
   ],
   "source": [
    "df = pd.read_csv(\"customer_support_tickets.csv\")\n",
    "df.head(3)"
   ]
  },
  {
   "cell_type": "code",
   "execution_count": 3,
   "id": "5f31a4f2-26db-49c1-8cc7-e97f19835e66",
   "metadata": {},
   "outputs": [
    {
     "name": "stdout",
     "output_type": "stream",
     "text": [
      "<class 'pandas.core.frame.DataFrame'>\n",
      "RangeIndex: 8469 entries, 0 to 8468\n",
      "Data columns (total 17 columns):\n",
      " #   Column                        Non-Null Count  Dtype  \n",
      "---  ------                        --------------  -----  \n",
      " 0   Ticket ID                     8469 non-null   int64  \n",
      " 1   Customer Name                 8469 non-null   object \n",
      " 2   Customer Email                8469 non-null   object \n",
      " 3   Customer Age                  8469 non-null   int64  \n",
      " 4   Customer Gender               8469 non-null   object \n",
      " 5   Product Purchased             8469 non-null   object \n",
      " 6   Date of Purchase              8469 non-null   object \n",
      " 7   Ticket Type                   8469 non-null   object \n",
      " 8   Ticket Subject                8469 non-null   object \n",
      " 9   Ticket Description            8469 non-null   object \n",
      " 10  Ticket Status                 8469 non-null   object \n",
      " 11  Resolution                    2769 non-null   object \n",
      " 12  Ticket Priority               8469 non-null   object \n",
      " 13  Ticket Channel                8469 non-null   object \n",
      " 14  First Response Time           5650 non-null   object \n",
      " 15  Time to Resolution            2769 non-null   object \n",
      " 16  Customer Satisfaction Rating  2769 non-null   float64\n",
      "dtypes: float64(1), int64(2), object(14)\n",
      "memory usage: 1.1+ MB\n"
     ]
    }
   ],
   "source": [
    "df.info()"
   ]
  },
  {
   "cell_type": "code",
   "execution_count": 4,
   "id": "326fca94-3205-46d1-ba46-40ad042df16d",
   "metadata": {},
   "outputs": [
    {
     "data": {
      "text/plain": [
       "Ticket ID                          0\n",
       "Customer Name                      0\n",
       "Customer Email                     0\n",
       "Customer Age                       0\n",
       "Customer Gender                    0\n",
       "Product Purchased                  0\n",
       "Date of Purchase                   0\n",
       "Ticket Type                        0\n",
       "Ticket Subject                     0\n",
       "Ticket Description                 0\n",
       "Ticket Status                      0\n",
       "Resolution                      5700\n",
       "Ticket Priority                    0\n",
       "Ticket Channel                     0\n",
       "First Response Time             2819\n",
       "Time to Resolution              5700\n",
       "Customer Satisfaction Rating    5700\n",
       "dtype: int64"
      ]
     },
     "execution_count": 4,
     "metadata": {},
     "output_type": "execute_result"
    }
   ],
   "source": [
    "df.isna().sum()"
   ]
  },
  {
   "cell_type": "code",
   "execution_count": 5,
   "id": "1b446f92-1eb1-4d95-88f3-85f1e268ca0e",
   "metadata": {},
   "outputs": [
    {
     "data": {
      "text/plain": [
       "(8469, 17)"
      ]
     },
     "execution_count": 5,
     "metadata": {},
     "output_type": "execute_result"
    }
   ],
   "source": [
    "df.shape"
   ]
  },
  {
   "cell_type": "code",
   "execution_count": 10,
   "id": "3e650c65-cca7-4006-b1a0-eeedcf70b40e",
   "metadata": {},
   "outputs": [
    {
     "data": {
      "text/plain": [
       "['Refund request',\n",
       " 'Technical issue',\n",
       " 'Cancellation request',\n",
       " 'Product inquiry',\n",
       " 'Billing inquiry']"
      ]
     },
     "execution_count": 10,
     "metadata": {},
     "output_type": "execute_result"
    }
   ],
   "source": [
    "df[\"Ticket Type\"].value_counts().index.to_list()"
   ]
  },
  {
   "cell_type": "code",
   "execution_count": 11,
   "id": "3e670969-b14f-4077-937a-773df4fbf8fe",
   "metadata": {},
   "outputs": [
    {
     "data": {
      "text/plain": [
       "['Refund request',\n",
       " 'Software bug',\n",
       " 'Product compatibility',\n",
       " 'Delivery problem',\n",
       " 'Hardware issue',\n",
       " 'Battery life',\n",
       " 'Network problem',\n",
       " 'Installation support',\n",
       " 'Product setup',\n",
       " 'Payment issue',\n",
       " 'Product recommendation',\n",
       " 'Account access',\n",
       " 'Peripheral compatibility',\n",
       " 'Data loss',\n",
       " 'Cancellation request',\n",
       " 'Display issue']"
      ]
     },
     "execution_count": 11,
     "metadata": {},
     "output_type": "execute_result"
    }
   ],
   "source": [
    "df[\"Ticket Subject\"].value_counts().index.to_list()"
   ]
  },
  {
   "cell_type": "code",
   "execution_count": 8,
   "id": "350b315e-bfb2-445f-83c5-d24fd30eb172",
   "metadata": {
    "scrolled": true
   },
   "outputs": [
    {
     "data": {
      "text/plain": [
       "2            Case maybe show recently my computer follow.\n",
       "3           Try capital clearly never color toward story.\n",
       "4                             West decision evidence bit.\n",
       "10                  Measure tonight surface feel forward.\n",
       "11      Measure there house management pick knowledge ...\n",
       "                              ...                        \n",
       "8452                    Interesting show must successful.\n",
       "8453                              Skill expect admit and.\n",
       "8455                    Say position key appear behavior.\n",
       "8466                Eight account century nature kitchen.\n",
       "8467                                We seat culture plan.\n",
       "Name: Resolution, Length: 2769, dtype: object"
      ]
     },
     "execution_count": 8,
     "metadata": {},
     "output_type": "execute_result"
    }
   ],
   "source": [
    "df[df[\"Resolution\"].notna()][\"Resolution\"]"
   ]
  },
  {
   "cell_type": "code",
   "execution_count": 9,
   "id": "111def61-938f-455d-82da-d4fbcd84aa68",
   "metadata": {},
   "outputs": [
    {
     "data": {
      "text/plain": [
       "Ticket Channel\n",
       "Email           2143\n",
       "Phone           2132\n",
       "Social media    2121\n",
       "Chat            2073\n",
       "Name: count, dtype: int64"
      ]
     },
     "execution_count": 9,
     "metadata": {},
     "output_type": "execute_result"
    }
   ],
   "source": [
    "df[\"Ticket Channel\"].value_counts()"
   ]
  },
  {
   "cell_type": "code",
   "execution_count": 10,
   "id": "5a22e51c-8924-48ef-8b29-6303d788ce94",
   "metadata": {},
   "outputs": [
    {
     "name": "stdout",
     "output_type": "stream",
     "text": [
      "Order: # 69\n",
      "Product: Canon DSLR Camera\n",
      "Ticket Type: Refund request\n",
      "Ticket Type: Refund request\n",
      "Description: \n",
      "I'm unable to access my {product_purchased} account. It keeps displaying an 'Invalid Credentials' error, even though I'm using the correct login information. How can I regain access to my account? If you don't I'm concerned about the security of my {product_purchased} and would like to ensure that my data is safe.\n",
      "Resoultion: \n",
      "Answer story series imagine discover.\n",
      "------------------------------\n",
      "Order: # 72\n",
      "Product: Dyson Vacuum Cleaner\n",
      "Ticket Type: Billing inquiry\n",
      "Ticket Type: Display issue\n",
      "Description: \n",
      "I'm having an issue with the {product_purchased}. Please assist. When I first noticed {product_purchased} the new price of the book was too high. I've already sent out the refund request, but they will I've checked for software updates, and my {product_purchased} is already running the latest version.\n",
      "Resoultion: \n",
      "Executive wear gun child.\n",
      "------------------------------\n",
      "Order: # 75\n",
      "Product: Roomba Robot Vacuum\n",
      "Ticket Type: Product inquiry\n",
      "Ticket Type: Display issue\n",
      "Description: \n",
      "I'm having an issue with the {product_purchased}. Please assist. 1. It is not allowed to purchase a product from an individual, or for a company in which there are no specific employees or employees, and all products have to I've followed the troubleshooting steps mentioned in the user manual, but the issue persists.\n",
      "Resoultion: \n",
      "Somebody east painting tree sell rock level.\n",
      "------------------------------\n",
      "Order: # 95\n",
      "Product: Autodesk AutoCAD\n",
      "Ticket Type: Product inquiry\n",
      "Ticket Type: Battery life\n",
      "Description: \n",
      "My {product_purchased} crashed, and I lost all the data stored on it. Is there any way to recover the lost data?\n",
      "\n",
      "Is there any way to recover the lost data? Can it be done remotely from a remote I've noticed a peculiar error message popping up on my {product_purchased} screen. It says '{error_message}'. What does it mean?\n",
      "Resoultion: \n",
      "Series special into hour feel stuff.\n",
      "------------------------------\n",
      "Order: # 98\n",
      "Product: Samsung Galaxy\n",
      "Ticket Type: Billing inquiry\n",
      "Ticket Type: Refund request\n",
      "Description: \n",
      "I'm having an issue with the {product_purchased}. Please assist. <s3> Please provide the product name, location and shipping address in the Product Overview. <s3> This message will be unread for 12 seconds. I've recently updated the firmware of my {product_purchased}, and the issue started happening afterward. Could it be related to the update?\n",
      "Resoultion: \n",
      "Generation officer force test evening certain sign oil.\n",
      "------------------------------\n",
      "Order: # 108\n",
      "Product: Dyson Vacuum Cleaner\n",
      "Ticket Type: Technical issue\n",
      "Ticket Type: Product setup\n",
      "Description: \n",
      "I'm having an issue with the {product_purchased}. Please assist. \" }, \" https://api.blockchain.info/api/v1/v1.0 \" } ;\n",
      "\n",
      "Here, we can fetch a blockchain I've noticed a sudden decrease in battery life on my {product_purchased}. It used to last much longer.\n",
      "Resoultion: \n",
      "Feeling end role stage.\n",
      "------------------------------\n",
      "Order: # 137\n",
      "Product: Amazon Echo\n",
      "Ticket Type: Technical issue\n",
      "Ticket Type: Network problem\n",
      "Description: \n",
      "I'm having an issue with the {product_purchased}. Please assist.\n",
      "\n",
      "<input type=\"checkbox\" [(product_id (product_name)) as ProductKey,]>\n",
      "\n",
      "<input type=\"checkbox\" I've followed online tutorials and community forums to troubleshoot the issue, but no luck so far.\n",
      "Resoultion: \n",
      "Student available discussion involve entire.\n",
      "------------------------------\n",
      "Order: # 138\n",
      "Product: Adobe Photoshop\n",
      "Ticket Type: Product inquiry\n",
      "Ticket Type: Product compatibility\n",
      "Description: \n",
      "I'm having an issue with the {product_purchased}. Please assist.\n",
      "\n",
      "I'll have the items ready for shipment to my mailbox within 2-3 months. Please email me with any questions. I've tried troubleshooting steps mentioned in the user manual, but the issue persists.\n",
      "Resoultion: \n",
      "Help tend experience develop class.\n",
      "------------------------------\n",
      "Order: # 141\n",
      "Product: Sony PlayStation\n",
      "Ticket Type: Technical issue\n",
      "Ticket Type: Software bug\n",
      "Description: \n",
      "I'm having an issue with the {product_purchased}. Please assist.\n",
      "\n",
      "The Product Marketing Guide (PUH) and the POH page have been updated to fix the error reported in one of the earlier updates.\n",
      "\n",
      "About I've recently updated the firmware of my {product_purchased}, and the issue started happening afterward. Could it be related to the update?\n",
      "Resoultion: \n",
      "View instead admit which lay.\n",
      "------------------------------\n",
      "Order: # 148\n",
      "Product: LG Washing Machine\n",
      "Ticket Type: Refund request\n",
      "Ticket Type: Installation support\n",
      "Description: \n",
      "I'm having an issue with the {product_purchased}. Please assist.\n",
      "\n",
      "Thank you: 1 Thanks: 0 Thanks: 0 Thanks: 0 Thanks: 0 Thanks: 0 [A-Z]. Thank you.\n",
      "\n",
      "Please assist This problem started occurring after the recent software update. I haven't made any other changes to the device.\n",
      "Resoultion: \n",
      "Few drive knowledge area.\n",
      "------------------------------\n"
     ]
    }
   ],
   "source": [
    "for i in df[df[\"Resolution\"].notna()].groupby(\"Ticket Channel\").get_group(\"Chat\")[\"Ticket Description\"].index[10:20]:\n",
    "    print(\"Order: #\", i)\n",
    "    print(f\"Product: {df[df[\"Resolution\"].notna()].groupby(\"Ticket Channel\").get_group(\"Chat\")[\"Product Purchased\"][i]}\")\n",
    "    print(f\"Ticket Type: {df[df[\"Resolution\"].notna()].groupby(\"Ticket Channel\").get_group(\"Chat\")[\"Ticket Type\"][i]}\")\n",
    "    print(f\"Ticket Type: {df[df[\"Resolution\"].notna()].groupby(\"Ticket Channel\").get_group(\"Chat\")[\"Ticket Subject\"][i]}\")\n",
    "    print(\"Description: \")\n",
    "    print(df[df[\"Resolution\"].notna()].groupby(\"Ticket Channel\").get_group(\"Chat\")[\"Ticket Description\"][i])\n",
    "    print(\"Resoultion: \")\n",
    "    print(df[df[\"Resolution\"].notna()].groupby(\"Ticket Channel\").get_group(\"Chat\")[\"Resolution\"][i])\n",
    "    print(\"-\"*30)"
   ]
  },
  {
   "cell_type": "code",
   "execution_count": 11,
   "id": "674d7696-c605-40c2-8c1f-752746e4b9ef",
   "metadata": {},
   "outputs": [],
   "source": [
    "df[\"context\"] = (\n",
    "    df[\"Ticket Type\"] + \" \" +\n",
    "    df[\"Ticket Subject\"] + \" \" +\n",
    "    df[\"Ticket Description\"] + \" \" +\n",
    "    df[\"Product Purchased\"]\n",
    ")"
   ]
  },
  {
   "cell_type": "code",
   "execution_count": 12,
   "id": "7a2d8cba-cb1e-4d6c-a76e-a05ecb13f6eb",
   "metadata": {},
   "outputs": [],
   "source": [
    "import pandas as pd\n",
    "import nltk\n",
    "from nltk.corpus import stopwords\n",
    "from nltk.tokenize import word_tokenize\n",
    "from sklearn.feature_extraction.text import TfidfVectorizer\n",
    "from sklearn.metrics.pairwise import cosine_similarity"
   ]
  },
  {
   "cell_type": "code",
   "execution_count": 13,
   "id": "44c03069-3e98-4202-92cf-6cb329bca424",
   "metadata": {},
   "outputs": [],
   "source": [
    "stop_words = set(stopwords.words('english'))\n",
    "\n",
    "def preprocess(text):\n",
    "    tokens = word_tokenize(str(text).lower())\n",
    "    tokens = [t for t in tokens if t.isalpha() and t not in stop_words]\n",
    "    return \" \".join(tokens)\n",
    "\n",
    "df[\"processed_context\"] = df[\"context\"].apply(preprocess)"
   ]
  },
  {
   "cell_type": "code",
   "execution_count": 14,
   "id": "300f6ce6-733e-4167-ab73-368a9ea4170a",
   "metadata": {},
   "outputs": [],
   "source": [
    "vectorizer = TfidfVectorizer()\n",
    "tfidf_matrix = vectorizer.fit_transform(df[\"processed_context\"])"
   ]
  },
  {
   "cell_type": "code",
   "execution_count": 15,
   "id": "01608ea1-9f1c-48c4-957f-0c66e15b648e",
   "metadata": {},
   "outputs": [],
   "source": [
    "def chatbot_response(user_query):\n",
    "    processed_query = preprocess(user_query)\n",
    "    user_vec = vectorizer.transform([processed_query])\n",
    "    similarities = cosine_similarity(user_vec, tfidf_matrix)\n",
    "    idx = similarities.argmax()\n",
    "    best_score = similarities[0, idx]\n",
    "    if best_score < 0.2:\n",
    "        return \"Sorry, I couldn't find an answer to your question.\"\n",
    "    return (\n",
    "        f\"Product: {df.iloc[idx]['Product Purchased']}\\n\"\n",
    "        f\"Ticket Type: {df.iloc[idx]['Ticket Type']}\\n\"\n",
    "        f\"Ticket Subject: {df.iloc[idx]['Ticket Subject']}\\n\"\n",
    "        f\"Description: {df.iloc[idx]['Ticket Description']}\"\n",
    "    )"
   ]
  },
  {
   "cell_type": "code",
   "execution_count": 16,
   "id": "e2931842-1448-4603-af8e-a500c5c14678",
   "metadata": {},
   "outputs": [
    {
     "data": {
      "text/plain": [
       "Product Purchased\n",
       "Canon EOS                         240\n",
       "GoPro Hero                        228\n",
       "Nest Thermostat                   225\n",
       "Amazon Echo                       221\n",
       "Philips Hue Lights                221\n",
       "LG Smart TV                       219\n",
       "Sony Xperia                       217\n",
       "Roomba Robot Vacuum               216\n",
       "Apple AirPods                     213\n",
       "LG OLED                           213\n",
       "iPhone                            212\n",
       "Sony 4K HDR TV                    210\n",
       "LG Washing Machine                208\n",
       "Garmin Forerunner                 208\n",
       "Canon DSLR Camera                 206\n",
       "Nikon D                           204\n",
       "Nintendo Switch Pro Controller    203\n",
       "Google Pixel                      203\n",
       "Fitbit Charge                     202\n",
       "Sony PlayStation                  202\n",
       "Microsoft Office                  200\n",
       "HP Pavilion                       200\n",
       "Amazon Kindle                     198\n",
       "Dyson Vacuum Cleaner              198\n",
       "Google Nest                       198\n",
       "Bose SoundLink Speaker            197\n",
       "Autodesk AutoCAD                  196\n",
       "Microsoft Xbox Controller         196\n",
       "Samsung Galaxy                    194\n",
       "PlayStation                       192\n",
       "Fitbit Versa Smartwatch           191\n",
       "Bose QuietComfort                 190\n",
       "Microsoft Surface                 190\n",
       "Samsung Soundbar                  188\n",
       "Asus ROG                          187\n",
       "Xbox                              187\n",
       "MacBook Pro                       186\n",
       "Dell XPS                          185\n",
       "Lenovo ThinkPad                   183\n",
       "GoPro Action Camera               183\n",
       "Adobe Photoshop                   181\n",
       "Nintendo Switch                   178\n",
       "Name: count, dtype: int64"
      ]
     },
     "execution_count": 16,
     "metadata": {},
     "output_type": "execute_result"
    }
   ],
   "source": [
    "df[\"Product Purchased\"].value_counts()"
   ]
  },
  {
   "cell_type": "code",
   "execution_count": null,
   "id": "dc8faae1-1a89-450f-baf0-27b49fdc5afd",
   "metadata": {},
   "outputs": [],
   "source": []
  }
 ],
 "metadata": {
  "kernelspec": {
   "display_name": "Python 3 (ipykernel)",
   "language": "python",
   "name": "python3"
  },
  "language_info": {
   "codemirror_mode": {
    "name": "ipython",
    "version": 3
   },
   "file_extension": ".py",
   "mimetype": "text/x-python",
   "name": "python",
   "nbconvert_exporter": "python",
   "pygments_lexer": "ipython3",
   "version": "3.10.8"
  }
 },
 "nbformat": 4,
 "nbformat_minor": 5
}
